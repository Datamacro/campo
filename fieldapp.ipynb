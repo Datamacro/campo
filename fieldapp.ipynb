{
  "nbformat": 4,
  "nbformat_minor": 0,
  "metadata": {
    "colab": {
      "name": "fieldapp",
      "provenance": [],
      "authorship_tag": "ABX9TyN3SbitgMANt+v0SXNn1Byh",
      "include_colab_link": true
    },
    "kernelspec": {
      "name": "python3",
      "display_name": "Python 3"
    },
    "language_info": {
      "name": "python"
    }
  },
  "cells": [
    {
      "cell_type": "markdown",
      "metadata": {
        "id": "view-in-github",
        "colab_type": "text"
      },
      "source": [
        "<a href=\"https://colab.research.google.com/github/Datamacro/campo/blob/main/fieldapp.ipynb\" target=\"_parent\"><img src=\"https://colab.research.google.com/assets/colab-badge.svg\" alt=\"Open In Colab\"/></a>"
      ]
    },
    {
      "cell_type": "code",
      "source": [
        "!pip install streamlit"
      ],
      "metadata": {
        "id": "JPB7G2N-6aBd"
      },
      "execution_count": null,
      "outputs": []
    },
    {
      "cell_type": "code",
      "source": [
        "!pip install yfinance"
      ],
      "metadata": {
        "id": "ibmI-u9E6rs7"
      },
      "execution_count": null,
      "outputs": []
    },
    {
      "cell_type": "code",
      "execution_count": 41,
      "metadata": {
        "id": "T8em6ZbO6Q-G"
      },
      "outputs": [],
      "source": [
        "import streamlit as st \n",
        "import yfinance as yf \n",
        "from datetime import date\n",
        "import pandas as pd \n",
        "from fbprophet import Prophet\n",
        "from fbprophet.plot import plot_plotly, plot_components_plotly\n",
        "from plotly import graph_objs as go"
      ]
    },
    {
      "cell_type": "code",
      "source": [
        "DATA_INICIO = '2017-01-01'\n",
        "DATA_FIM = date.today().strftime('%Y-%m-%d')"
      ],
      "metadata": {
        "id": "_nMUsVHF60Jq"
      },
      "execution_count": 42,
      "outputs": []
    },
    {
      "cell_type": "code",
      "source": [
        "# Nome do app\n",
        "\n",
        "st.title ('fieldapp')"
      ],
      "metadata": {
        "colab": {
          "base_uri": "https://localhost:8080/"
        },
        "id": "Jz2UyFQU68Ur",
        "outputId": "36934198-712c-4f9b-9246-3c29dc341fa1"
      },
      "execution_count": 43,
      "outputs": [
        {
          "output_type": "execute_result",
          "data": {
            "text/plain": [
              "DeltaGenerator(_root_container=0, _provided_cursor=None, _parent=None, _block_type=None, _form_data=None)"
            ]
          },
          "metadata": {},
          "execution_count": 43
        }
      ]
    },
    {
      "cell_type": "code",
      "source": [
        "# Criando sidebar\n",
        "\n",
        "st.sidebar.header('ESCOLHA A AÇÃO')"
      ],
      "metadata": {
        "colab": {
          "base_uri": "https://localhost:8080/"
        },
        "id": "4n2DmulT7P2i",
        "outputId": "959aa30b-0465-49eb-fa1a-e87ed31022d2"
      },
      "execution_count": 44,
      "outputs": [
        {
          "output_type": "execute_result",
          "data": {
            "text/plain": [
              "DeltaGenerator(_root_container=1, _provided_cursor=None, _parent=DeltaGenerator(_root_container=0, _provided_cursor=None, _parent=None, _block_type=None, _form_data=None), _block_type=None, _form_data=None)"
            ]
          },
          "metadata": {},
          "execution_count": 44
        }
      ]
    },
    {
      "cell_type": "code",
      "source": [
        "n_dias = st.slider('QUANTIDADE DE DIAS DE PREVISÃO', 30, 365)\n"
      ],
      "metadata": {
        "id": "fBT5Dt4R7i56"
      },
      "execution_count": 45,
      "outputs": []
    },
    {
      "cell_type": "code",
      "source": [
        "def pegar_dados_acoes():\n",
        "    path = 'C:/Users/jdslh/Documents/Datamacro/acoes.csv'\n",
        "    return pd.read_csv(path, delimiter=';')\n",
        "    df = pagar_dados_acoes\n",
        "    acao = df['snome']\n",
        "    nome_acao_escolhida = st.sidebar.selectbox('ESCOLHA UMA AÇÃO')\n",
        "    df_acao = df[df['snome'] == nome_acao_escolhida]\n",
        "    acao_escolhida = df_acao.iloc[0]['sigla_acao']\n",
        "    acao_escolhida = acao_escolhida + '.SA'\n",
        "    "
      ],
      "metadata": {
        "id": "-4M1dZ2M8Bkp"
      },
      "execution_count": 46,
      "outputs": []
    },
    {
      "cell_type": "code",
      "source": [
        "def pegar_valores_online(sigla_acao):\n",
        "    df = yf.download(sigla_acao, DATA_INICIO, DATA_FIM)\n",
        "    df.reset_index(inplace=True)\n",
        "    return df\n",
        "    df_valores = pegar_valores_online(acap_escolhida)\n",
        "    st.subheader('TABELA DE VALORES - ') + nome_acao_escolhida\n",
        "    st.write(df_valores.tail(10))\n",
        "\n",
        "    st.subheader('GRÁFICO')\n",
        "    fig = go.Figure()\n",
        "    fig.add_trace(go.Scatter(x=df_valores['Date'],\n",
        "                             y=df_valores['Close'],\n",
        "                             name='FECHAMENTO',\n",
        "                             Line_color='orange'))\n",
        "    st.plotly_chart(fig)\n",
        "\n",
        "# Previsão   \n",
        "\n",
        "    df_treino = df_valores[['Date', 'Close']]\n",
        "\n",
        "# Renomear Colunas\n",
        "\n",
        "    df_treino = df_treino.rename(colums={\"Date\": 'ds', 'Close': 'y'})\n",
        "\n",
        "# Modelo\n",
        "\n",
        "    modelo = Prophet()\n",
        "    modelo_fit(df_treino)\n",
        "\n",
        "    futuro = modelo.make_future_dataframe(periods=n_dias, freq='B')\n",
        "    previsao = modelo.predict(futuro)\n",
        "\n",
        "    st.subheader('PREVISÃO DE PREÇOS (POSSÍVEIS) PARA DATAS FUTURAS')\n",
        "    st.write(previsao[['ds','yhat', 'yhat_lower', 'yhat_upper', ]].tail.n_dias)\n",
        "\n",
        "    grafico1 = plot.plotly(modelo, previsao)\n",
        "    st.plotly_chart(grafico1)\n",
        "\n",
        "    grafico2 = plot.plot_components_plotly(modelo, previsao)\n",
        "    st.plotly_chart(grafico2)\n",
        "\n",
        "\n",
        "\n"
      ],
      "metadata": {
        "id": "MFJy9n17CQzv"
      },
      "execution_count": 47,
      "outputs": []
    }
  ]
}